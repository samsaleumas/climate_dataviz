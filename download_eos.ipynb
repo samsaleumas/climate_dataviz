{
 "cells": [
  {
   "cell_type": "code",
   "execution_count": null,
   "metadata": {},
   "outputs": [],
   "source": [
    "import cdsapi\n",
    "\n",
    "c = cdsapi.Client()\n",
    "\n",
    "c.retrieve(\n",
    "    'reanalysis-era5-land-monthly-means',\n",
    "    {\n",
    "        'product_type': 'monthly_averaged_reanalysis',\n",
    "        'variable': [\n",
    "            'soil_temperature_level_2', 'total_precipitation',\n",
    "        ],\n",
    "        'year': [\n",
    "            '1950', '1951', '1952',\n",
    "            '1953', '1954', '1955',\n",
    "            '1956', '1957', '1958',\n",
    "            '1959', '1960', '1961',\n",
    "            '1962', '1963', '1964',\n",
    "            '1965', '1966', '1967',\n",
    "            '1968', '1969', '1970',\n",
    "            '1971', '1972', '1973',\n",
    "            '1974', '1975', '1976',\n",
    "            '1977', '1978', '1979',\n",
    "            '1980', '1981', '1982',\n",
    "            '1983', '1984', '1985',\n",
    "            '1986', '1987', '1988',\n",
    "            '1989', '1990', '1991',\n",
    "            '1992', '1993', '1994',\n",
    "            '1995', '1996', '1997',\n",
    "            '1998', '1999', '2000',\n",
    "            '2001', '2002', '2003',\n",
    "            '2004', '2005', '2006',\n",
    "            '2007', '2008', '2009',\n",
    "            '2010', '2011', '2012',\n",
    "            '2013', '2014', '2015',\n",
    "            '2016', '2017', '2018',\n",
    "            '2019', '2020', '2021',\n",
    "            '2022', '2023',\n",
    "        ],\n",
    "        'month': [\n",
    "            '01', '02', '03',\n",
    "            '04', '05', '06',\n",
    "            '07', '08', '09',\n",
    "            '10', '11', '12',\n",
    "        ],\n",
    "        'time': '00:00',\n",
    "        'format': 'netcdf',\n",
    "    },\n",
    "    '//home/samsarah/Documents/dataviz/download.nc')"
   ]
  },
  {
   "cell_type": "code",
   "execution_count": 9,
   "metadata": {},
   "outputs": [
    {
     "name": "stderr",
     "output_type": "stream",
     "text": [
      "2024-02-05 12:42:08,881 INFO Welcome to the CDS\n",
      "2024-02-05 12:42:08,883 INFO Sending request to https://cds.climate.copernicus.eu/api/v2/resources/sis-european-risk-extreme-precipitation-indicators\n",
      "2024-02-05 12:42:08,962 INFO Request is queued\n",
      "2024-02-05 12:42:09,999 INFO Request is running\n",
      "2024-02-05 12:42:17,239 INFO Request is completed\n",
      "2024-02-05 12:42:17,240 INFO Downloading https://download-0013-clone.copernicus-climate.eu/cache-compute-0013/cache/data7/dataset-sis-european-risk-extreme-precipitation-indicators-0b1fe730-82d4-4533-8c96-f0af6a16670d.zip to /home/samsarah/Documents/dataviz/extreme_precipitation_indicators.zip (3.5M)\n",
      "2024-02-05 12:42:18,157 INFO Download rate 3.8M/s   \n"
     ]
    },
    {
     "data": {
      "text/plain": [
       "Result(content_length=3675819,content_type=application/zip,location=https://download-0013-clone.copernicus-climate.eu/cache-compute-0013/cache/data7/dataset-sis-european-risk-extreme-precipitation-indicators-0b1fe730-82d4-4533-8c96-f0af6a16670d.zip)"
      ]
     },
     "execution_count": 9,
     "metadata": {},
     "output_type": "execute_result"
    }
   ],
   "source": [
    "import cdsapi\n",
    "\n",
    "c = cdsapi.Client()\n",
    "\n",
    "c.retrieve(\n",
    "    'sis-european-risk-extreme-precipitation-indicators',\n",
    "    {\n",
    "        'format': 'zip',\n",
    "        'spatial_coverage': 'europe',\n",
    "        'variable': 'number_of_precipitation_days_exceeding_fixed_percentiles',\n",
    "        'temporal_aggregation': 'monthly',\n",
    "        'percentile': '90th',\n",
    "        'period': [\n",
    "            '1979', '1980', '1981',\n",
    "            '1982', '1983', '1984',\n",
    "            '1985', '1986', '1987',\n",
    "            '1988', '1989', '1990',\n",
    "            '1991', '1992', '1993',\n",
    "            '1994', '1995', '1996',\n",
    "            '1997', '1998', '1999',\n",
    "            '2000', '2001', '2002',\n",
    "            '2003', '2004', '2005',\n",
    "            '2006', '2007', '2008',\n",
    "            '2009', '2010', '2011',\n",
    "            '2012', '2013', '2014',\n",
    "            '2015', '2016', '2017',\n",
    "            '2018', '2019',\n",
    "        ],\n",
    "        'product_type': 'era5',\n",
    "    },\n",
    "    '/home/samsarah/Documents/dataviz/extreme_precipitation_indicators.zip')"
   ]
  },
  {
   "cell_type": "code",
   "execution_count": 10,
   "metadata": {},
   "outputs": [
    {
     "name": "stderr",
     "output_type": "stream",
     "text": [
      "2024-02-05 12:55:46,278 INFO Welcome to the CDS\n",
      "2024-02-05 12:55:46,281 INFO Sending request to https://cds.climate.copernicus.eu/api/v2/resources/sis-european-risk-extreme-precipitation-indicators\n",
      "2024-02-05 12:55:46,393 INFO Request is queued\n",
      "2024-02-05 12:55:47,434 INFO Request is running\n",
      "2024-02-05 12:55:59,786 INFO Request is completed\n",
      "2024-02-05 12:55:59,787 INFO Downloading https://download-0001-clone.copernicus-climate.eu/cache-compute-0001/cache/data9/dataset-sis-european-risk-extreme-precipitation-indicators-62ff1710-b41b-4f04-b90b-7bd0633416e8.zip to /home/samsarah/Documents/dataviz/maximum_1_day_precipitation.zip (34.4M)\n",
      "2024-02-05 12:56:07,566 INFO Download rate 4.4M/s   \n"
     ]
    },
    {
     "data": {
      "text/plain": [
       "Result(content_length=36111067,content_type=application/zip,location=https://download-0001-clone.copernicus-climate.eu/cache-compute-0001/cache/data9/dataset-sis-european-risk-extreme-precipitation-indicators-62ff1710-b41b-4f04-b90b-7bd0633416e8.zip)"
      ]
     },
     "execution_count": 10,
     "metadata": {},
     "output_type": "execute_result"
    }
   ],
   "source": [
    "import cdsapi\n",
    "\n",
    "c = cdsapi.Client()\n",
    "\n",
    "c.retrieve(\n",
    "    'sis-european-risk-extreme-precipitation-indicators',\n",
    "    {\n",
    "        'format': 'zip',\n",
    "        'spatial_coverage': 'europe',\n",
    "        'variable': 'maximum_1_day_precipitation',\n",
    "        'temporal_aggregation': 'monthly',\n",
    "        'period': [\n",
    "            '1979', '1980', '1981',\n",
    "            '1982', '1983', '1984',\n",
    "            '1985', '1986', '1987',\n",
    "            '1988', '1989', '1990',\n",
    "            '1991', '1992', '1993',\n",
    "            '1994', '1995', '1996',\n",
    "            '1997', '1998', '1999',\n",
    "            '2000', '2001', '2002',\n",
    "            '2003', '2004', '2005',\n",
    "            '2006', '2007', '2008',\n",
    "            '2009', '2010', '2011',\n",
    "            '2012', '2013', '2014',\n",
    "            '2015', '2016', '2017',\n",
    "            '2018', '2019',\n",
    "        ],\n",
    "        'product_type': 'era5',\n",
    "    },\n",
    "    '/home/samsarah/Documents/dataviz/maximum_1_day_precipitation.zip')"
   ]
  },
  {
   "cell_type": "code",
   "execution_count": 11,
   "metadata": {},
   "outputs": [
    {
     "name": "stderr",
     "output_type": "stream",
     "text": [
      "2024-02-05 13:08:44,455 INFO Welcome to the CDS\n",
      "2024-02-05 13:08:44,456 INFO Sending request to https://cds.climate.copernicus.eu/api/v2/resources/sis-european-risk-extreme-precipitation-indicators\n",
      "2024-02-05 13:08:44,541 INFO Request is queued\n",
      "2024-02-05 13:08:45,580 INFO Request is running\n",
      "2024-02-05 13:09:59,854 INFO Request is completed\n",
      "2024-02-05 13:09:59,855 INFO Downloading https://download-0016.copernicus-climate.eu/cache-compute-0016/cache/data1/dataset-sis-european-risk-extreme-precipitation-indicators-c1127598-e669-403d-bc94-becc037bca0d.zip to /home/samsarah/Documents/dataviz/maximum_1_day_precipitation_e_obs.zip (140.6M)\n",
      "2024-02-05 13:10:17,425 INFO Download rate 8M/s    \n"
     ]
    },
    {
     "data": {
      "text/plain": [
       "Result(content_length=147476966,content_type=application/zip,location=https://download-0016.copernicus-climate.eu/cache-compute-0016/cache/data1/dataset-sis-european-risk-extreme-precipitation-indicators-c1127598-e669-403d-bc94-becc037bca0d.zip)"
      ]
     },
     "execution_count": 11,
     "metadata": {},
     "output_type": "execute_result"
    }
   ],
   "source": [
    "import cdsapi\n",
    "\n",
    "c = cdsapi.Client()\n",
    "\n",
    "c.retrieve(\n",
    "    'sis-european-risk-extreme-precipitation-indicators',\n",
    "    {\n",
    "        'format': 'zip',\n",
    "        'variable': 'maximum_1_day_precipitation',\n",
    "        'spatial_coverage': 'europe',\n",
    "        'product_type': 'e_obs',\n",
    "        'temporal_aggregation': 'monthly',\n",
    "        'period': [\n",
    "            '1950', '1951', '1952',\n",
    "            '1953', '1954', '1955',\n",
    "            '1956', '1957', '1958',\n",
    "            '1959', '1960', '1961',\n",
    "            '1962', '1963', '1964',\n",
    "            '1965', '1966', '1967',\n",
    "            '1968', '1969', '1970',\n",
    "            '1971', '1972', '1973',\n",
    "            '1974', '1975', '1976',\n",
    "            '1977', '1978', '1979',\n",
    "            '1980', '1981', '1982',\n",
    "            '1983', '1984', '1985',\n",
    "            '1986', '1987', '1988',\n",
    "            '1989', '1990', '1991',\n",
    "            '1992', '1993', '1994',\n",
    "            '1995', '1996', '1997',\n",
    "            '1998', '1999', '2000',\n",
    "            '2001', '2002', '2003',\n",
    "            '2004', '2005', '2006',\n",
    "            '2007', '2008', '2009',\n",
    "            '2010', '2011', '2012',\n",
    "            '2013', '2014', '2015',\n",
    "            '2016', '2017', '2018',\n",
    "            '2019',\n",
    "        ],\n",
    "    },\n",
    "    '/home/samsarah/Documents/dataviz/maximum_1_day_precipitation_e_obs.zip')"
   ]
  }
 ],
 "metadata": {
  "kernelspec": {
   "display_name": "sigma",
   "language": "python",
   "name": "python3"
  },
  "language_info": {
   "codemirror_mode": {
    "name": "ipython",
    "version": 3
   },
   "file_extension": ".py",
   "mimetype": "text/x-python",
   "name": "python",
   "nbconvert_exporter": "python",
   "pygments_lexer": "ipython3",
   "version": "3.10.13"
  }
 },
 "nbformat": 4,
 "nbformat_minor": 2
}
